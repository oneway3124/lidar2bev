{
 "cells": [
  {
   "cell_type": "code",
   "execution_count": 9,
   "metadata": {},
   "outputs": [
    {
     "ename": "FileNotFoundError",
     "evalue": "[Errno 2] No such file or directory: 'C:\\\\Users\\\\lenovo\\\\Desktop\\\\kitti_lidar_to_bev\\\\000107.bin'",
     "output_type": "error",
     "traceback": [
      "\u001b[1;31m---------------------------------------------------------------------------\u001b[0m",
      "\u001b[1;31mFileNotFoundError\u001b[0m                         Traceback (most recent call last)",
      "Input \u001b[1;32mIn [9]\u001b[0m, in \u001b[0;36m<cell line: 6>\u001b[1;34m()\u001b[0m\n\u001b[0;32m      3\u001b[0m \u001b[38;5;28;01mimport\u001b[39;00m \u001b[38;5;21;01mcv2\u001b[39;00m\n\u001b[0;32m      4\u001b[0m \u001b[38;5;28;01mimport\u001b[39;00m \u001b[38;5;21;01mmatplotlib\u001b[39;00m\u001b[38;5;21;01m.\u001b[39;00m\u001b[38;5;21;01mpyplot\u001b[39;00m \u001b[38;5;28;01mas\u001b[39;00m \u001b[38;5;21;01mplt\u001b[39;00m\n\u001b[1;32m----> 6\u001b[0m pointcloud \u001b[38;5;241m=\u001b[39m \u001b[43mnp\u001b[49m\u001b[38;5;241;43m.\u001b[39;49m\u001b[43mfromfile\u001b[49m\u001b[43m(\u001b[49m\u001b[38;5;28;43mstr\u001b[39;49m\u001b[43m(\u001b[49m\u001b[38;5;124;43mr\u001b[39;49m\u001b[38;5;124;43m\"\u001b[39;49m\u001b[38;5;124;43mC:\u001b[39;49m\u001b[38;5;124;43m\\\u001b[39;49m\u001b[38;5;124;43mUsers\u001b[39;49m\u001b[38;5;124;43m\\\u001b[39;49m\u001b[38;5;124;43mlenovo\u001b[39;49m\u001b[38;5;124;43m\\\u001b[39;49m\u001b[38;5;124;43mDesktop\u001b[39;49m\u001b[38;5;124;43m\\\u001b[39;49m\u001b[38;5;124;43mkitti_lidar_to_bev\u001b[39;49m\u001b[38;5;124;43m\\\u001b[39;49m\u001b[38;5;124;43m000107.bin\u001b[39;49m\u001b[38;5;124;43m\"\u001b[39;49m\u001b[43m)\u001b[49m\u001b[43m,\u001b[49m\u001b[43m \u001b[49m\u001b[43mdtype\u001b[49m\u001b[38;5;241;43m=\u001b[39;49m\u001b[43mnp\u001b[49m\u001b[38;5;241;43m.\u001b[39;49m\u001b[43mfloat32\u001b[49m\u001b[43m,\u001b[49m\u001b[43m \u001b[49m\u001b[43mcount\u001b[49m\u001b[38;5;241;43m=\u001b[39;49m\u001b[38;5;241;43m-\u001b[39;49m\u001b[38;5;241;43m1\u001b[39;49m\u001b[43m)\u001b[49m\u001b[38;5;241m.\u001b[39mreshape(\u001b[38;5;241m-\u001b[39m\u001b[38;5;241m1\u001b[39m,\u001b[38;5;241m4\u001b[39m)\n\u001b[0;32m      7\u001b[0m \u001b[38;5;28mprint\u001b[39m(pointcloud\u001b[38;5;241m.\u001b[39mshape)\n\u001b[0;32m      8\u001b[0m x \u001b[38;5;241m=\u001b[39m pointcloud[:,\u001b[38;5;241m0\u001b[39m]\n",
      "\u001b[1;31mFileNotFoundError\u001b[0m: [Errno 2] No such file or directory: 'C:\\\\Users\\\\lenovo\\\\Desktop\\\\kitti_lidar_to_bev\\\\000107.bin'"
     ]
    }
   ],
   "source": [
    "import numpy as np\n",
    "from PIL import Image\n",
    "import cv2\n",
    "import matplotlib.pyplot as plt\n",
    "\n",
    "pointcloud = np.fromfile(str(r\"C:\\Users\\lenovo\\Desktop\\kitti_lidar_to_bev\\kitti_000008.bin\"), dtype=np.float32, count=-1).reshape(-1,4)\n",
    "print(pointcloud.shape)\n",
    "x = pointcloud[:,0]\n",
    "y = pointcloud[:,1]\n",
    "z = pointcloud[:,2]\n",
    "\n",
    "side_range = (-10, 10)\n",
    "front_range = (0, 20)\n",
    "front_filter = np.logical_and((x>front_range[0]),(x<front_range[1]))\n",
    "side_filter = np.logical_and((y>side_range[0]),(y<side_range[1]))\n",
    "dual_filter = np.logical_and(front_filter, side_filter)\n",
    "print(dual_filter)\n",
    "indices = np.argwhere(dual_filter).flatten()\n",
    "print(indices)\n",
    "\n",
    "x_filtered = x[indices]\n",
    "y_filtered = y[indices]\n",
    "z_filtered = z[indices]\n",
    "print(x_filtered.shape)\n",
    "print(x_filtered)\n",
    "\n",
    "# convert coordinate\n",
    "res = 0.02\n",
    "x_img = (-y_filtered / res).astype(np.int32)\n",
    "y_img = (-x_filtered / res).astype(np.int32)\n",
    "print(x_img)\n",
    "print(y_img)\n",
    "\n",
    "# shift origin to(0,0)\n",
    "x_img_center = (x_img - side_range[0] / res).astype(np.int32)\n",
    "y_img_center = (y_img + front_range[1] / res).astype(np.int32)\n",
    "\n",
    "print(z_filtered.min())\n",
    "print(z_filtered.max())\n",
    "z_range = (-3, 1)\n",
    "z_points = np.clip(z_filtered, a_min=z_range[0], a_max=z_range[1])\n",
    "print(z_points)\n",
    "\n",
    "def z_scale_to_255(z, min, max):\n",
    "    z_normalized = ((z-min)*255/(max-min)).astype(dtype=np.uint8)\n",
    "    return z_normalized\n",
    "\n",
    "z_min = z_points.min()\n",
    "z_max = z_points.max()\n",
    "z_pixel = z_scale_to_255(z_points, z_min, z_max)\n",
    "print(z_pixel.shape)\n",
    "\n",
    "x_max = int((side_range[1]-side_range[0])/res)+1\n",
    "y_max = int((front_range[1]-front_range[0])/res)+1\n",
    "print(x_max)\n",
    "print(y_max)\n",
    "im = np.zeros([x_max, y_max], dtype=np.uint8)\n",
    "im[x_img_center, y_img_center]= z_pixel\n",
    "\n",
    "plt.imshow(im, cmap=\"jet\", vmin=0, vmax=255)\n",
    "plt.show()\n",
    "\n",
    "#im2 = Image.fromarray(im)\n",
    "#im2.show()"
   ]
  },
  {
   "cell_type": "code",
   "execution_count": null,
   "metadata": {},
   "outputs": [],
   "source": []
  },
  {
   "cell_type": "code",
   "execution_count": null,
   "metadata": {},
   "outputs": [],
   "source": []
  }
 ],
 "metadata": {
  "kernelspec": {
   "display_name": "Python 3 (ipykernel)",
   "language": "python",
   "name": "python3"
  },
  "language_info": {
   "codemirror_mode": {
    "name": "ipython",
    "version": 3
   },
   "file_extension": ".py",
   "mimetype": "text/x-python",
   "name": "python",
   "nbconvert_exporter": "python",
   "pygments_lexer": "ipython3",
   "version": "3.10.6"
  }
 },
 "nbformat": 4,
 "nbformat_minor": 4
}
