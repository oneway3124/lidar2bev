{
 "cells": [
  {
   "cell_type": "code",
   "execution_count": 1,
   "metadata": {},
   "outputs": [],
   "source": [
    "import numpy as np\n",
    "from PIL import Image\n",
    "import cv2\n",
    "import matplotlib.pyplot as plt"
   ]
  },
  {
   "cell_type": "code",
   "execution_count": 2,
   "metadata": {},
   "outputs": [
    {
     "name": "stdout",
     "output_type": "stream",
     "text": [
      "(17238, 4)\n"
     ]
    }
   ],
   "source": [
    "pointcloud = np.fromfile(str(r\"C:\\Users\\lenovo\\Desktop\\kitti_lidar_to_bev\\kitti_000008.bin\"), dtype=np.float32, count=-1).reshape(-1,4)\n",
    "print(pointcloud.shape)"
   ]
  },
  {
   "cell_type": "code",
   "execution_count": 3,
   "metadata": {},
   "outputs": [
    {
     "data": {
      "text/plain": [
       "array([[ 2.1554e+01,  2.8000e-02,  9.3800e-01,  3.4000e-01],\n",
       "       [ 2.1240e+01,  9.4000e-02,  9.2700e-01,  2.4000e-01],\n",
       "       [ 2.1056e+01,  1.5900e-01,  9.2100e-01,  5.3000e-01],\n",
       "       ...,\n",
       "       [ 6.3150e+00, -3.1000e-02, -1.6490e+00,  2.9000e-01],\n",
       "       [ 6.3090e+00, -2.1000e-02, -1.6470e+00,  2.9000e-01],\n",
       "       [ 6.3110e+00, -1.0000e-03, -1.6480e+00,  3.2000e-01]],\n",
       "      dtype=float32)"
      ]
     },
     "execution_count": 3,
     "metadata": {},
     "output_type": "execute_result"
    }
   ],
   "source": [
    "pointcloud"
   ]
  },
  {
   "cell_type": "code",
   "execution_count": 4,
   "metadata": {},
   "outputs": [
    {
     "data": {
      "text/plain": [
       "17238"
      ]
     },
     "execution_count": 4,
     "metadata": {},
     "output_type": "execute_result"
    }
   ],
   "source": [
    "len(pointcloud)"
   ]
  },
  {
   "cell_type": "code",
   "execution_count": 6,
   "metadata": {},
   "outputs": [],
   "source": [
    "x = pointcloud[:,0]\n",
    "y = pointcloud[:,1]\n",
    "z = pointcloud[:,2]"
   ]
  },
  {
   "cell_type": "code",
   "execution_count": 7,
   "metadata": {},
   "outputs": [
    {
     "data": {
      "text/plain": [
       "(array([21.554, 21.24 , 21.056, ...,  6.315,  6.309,  6.311], dtype=float32),\n",
       " array([ 0.028,  0.094,  0.159, ..., -0.031, -0.021, -0.001], dtype=float32),\n",
       " array([ 0.938,  0.927,  0.921, ..., -1.649, -1.647, -1.648], dtype=float32))"
      ]
     },
     "execution_count": 7,
     "metadata": {},
     "output_type": "execute_result"
    }
   ],
   "source": [
    "x,y,z"
   ]
  },
  {
   "cell_type": "code",
   "execution_count": 8,
   "metadata": {},
   "outputs": [],
   "source": [
    "side_range = (-10, 10)\n",
    "front_range = (0, 20)"
   ]
  },
  {
   "cell_type": "code",
   "execution_count": 9,
   "metadata": {},
   "outputs": [
    {
     "data": {
      "text/plain": [
       "((-10, 10), (0, 20))"
      ]
     },
     "execution_count": 9,
     "metadata": {},
     "output_type": "execute_result"
    }
   ],
   "source": [
    "side_range,front_range"
   ]
  },
  {
   "cell_type": "code",
   "execution_count": 11,
   "metadata": {},
   "outputs": [],
   "source": [
    "front_filter = np.logical_and((x>front_range[0]),(x<front_range[1]))\n",
    "side_filter = np.logical_and((y>side_range[0]),(y<side_range[1]))\n",
    "dual_filter = np.logical_and(front_filter, side_filter)"
   ]
  },
  {
   "cell_type": "code",
   "execution_count": 12,
   "metadata": {},
   "outputs": [
    {
     "data": {
      "text/plain": [
       "(array([False, False, False, ...,  True,  True,  True]),\n",
       " array([ True,  True,  True, ...,  True,  True,  True]),\n",
       " array([False, False, False, ...,  True,  True,  True]))"
      ]
     },
     "execution_count": 12,
     "metadata": {},
     "output_type": "execute_result"
    }
   ],
   "source": [
    "front_filter,side_filter,dual_filter"
   ]
  },
  {
   "cell_type": "code",
   "execution_count": 13,
   "metadata": {},
   "outputs": [],
   "source": [
    "indices = np.argwhere(dual_filter).flatten()"
   ]
  },
  {
   "cell_type": "code",
   "execution_count": null,
   "metadata": {},
   "outputs": [],
   "source": [
    "indices"
   ]
  },
  {
   "cell_type": "code",
   "execution_count": 5,
   "metadata": {},
   "outputs": [
    {
     "name": "stdout",
     "output_type": "stream",
     "text": [
      "[False False False ...  True  True  True]\n",
      "[   14    15    16 ... 17235 17236 17237]\n",
      "(14580,)\n",
      "[18.154 18.175 18.209 ...  6.315  6.309  6.311]\n",
      "[-38 -41 -43 ...   1   1   0]\n",
      "[-907 -908 -910 ... -315 -315 -315]\n",
      "-1.804\n",
      "0.893\n",
      "[ 0.824  0.824  0.826 ... -1.649 -1.647 -1.648]\n",
      "(14580,)\n",
      "1001\n",
      "1001\n"
     ]
    },
    {
     "data": {
      "image/png": "[encoded data removed]",
      "text/plain": [
       "<Figure size 432x288 with 1 Axes>"
      ]
     },
     "metadata": {
      "needs_background": "light"
     },
     "output_type": "display_data"
    }
   ],
   "source": [
    "print(indices)\n",
    "\n",
    "x_filtered = x[indices]\n",
    "y_filtered = y[indices]\n",
    "z_filtered = z[indices]\n",
    "print(x_filtered.shape)\n",
    "print(x_filtered)\n",
    "\n",
    "# convert coordinate\n",
    "res = 0.02\n",
    "x_img = (-y_filtered / res).astype(np.int32)\n",
    "y_img = (-x_filtered / res).astype(np.int32)\n",
    "print(x_img)\n",
    "print(y_img)\n",
    "\n",
    "# shift origin to(0,0)\n",
    "x_img_center = (x_img - side_range[0] / res).astype(np.int32)\n",
    "y_img_center = (y_img + front_range[1] / res).astype(np.int32)\n",
    "\n",
    "print(z_filtered.min())\n",
    "print(z_filtered.max())\n",
    "z_range = (-3, 1)\n",
    "z_points = np.clip(z_filtered, a_min=z_range[0], a_max=z_range[1])\n",
    "print(z_points)\n",
    "\n",
    "def z_scale_to_255(z, min, max):\n",
    "    z_normalized = ((z-min)*255/(max-min)).astype(dtype=np.uint8)\n",
    "    return z_normalized\n",
    "\n",
    "z_min = z_points.min()\n",
    "z_max = z_points.max()\n",
    "z_pixel = z_scale_to_255(z_points, z_min, z_max)\n",
    "print(z_pixel.shape)\n",
    "\n",
    "x_max = int((side_range[1]-side_range[0])/res)+1\n",
    "y_max = int((front_range[1]-front_range[0])/res)+1\n",
    "print(x_max)\n",
    "print(y_max)\n",
    "im = np.zeros([x_max, y_max], dtype=np.uint8)\n",
    "im[x_img_center, y_img_center]= z_pixel\n",
    "\n",
    "plt.imshow(im, cmap=\"jet\", vmin=0, vmax=255)\n",
    "plt.show()\n"
   ]
  },
  {
   "cell_type": "code",
   "execution_count": null,
   "metadata": {},
   "outputs": [],
   "source": []
  },
  {
   "cell_type": "code",
   "execution_count": null,
   "metadata": {},
   "outputs": [],
   "source": []
  }
 ],
 "metadata": {
  "kernelspec": {
   "display_name": "Python 3 (ipykernel)",
   "language": "python",
   "name": "python3"
  },
  "language_info": {
   "codemirror_mode": {
    "name": "ipython",
    "version": 3
   },
   "file_extension": ".py",
   "mimetype": "text/x-python",
   "name": "python",
   "nbconvert_exporter": "python",
   "pygments_lexer": "ipython3",
   "version": "3.8.0"
  }
 },
 "nbformat": 4,
 "nbformat_minor": 4
}
